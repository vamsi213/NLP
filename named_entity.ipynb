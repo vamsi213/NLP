{
 "cells": [
  {
   "cell_type": "code",
   "execution_count": 1,
   "id": "c8c95588-0446-4d97-8602-439f3141fff9",
   "metadata": {},
   "outputs": [],
   "source": [
    "words = \"The Burj Khalifa, located in Dubai, United Arab Emirates, is the tallest building in the world, standing at 828 meters (2,717 feet). Completed in 2010, it features a mix of residential, office, and hotel spaces, and is renowned for its striking architectural design by Adrian Smith. The tower has become a global icon and a symbol of Dubai's rapid development and modernity.\""
   ]
  },
  {
   "cell_type": "code",
   "execution_count": 2,
   "id": "9efa6788-489f-41a5-8d1a-bb007ce4c151",
   "metadata": {},
   "outputs": [],
   "source": [
    "import nltk"
   ]
  },
  {
   "cell_type": "code",
   "execution_count": 5,
   "id": "6284b753-c483-42d0-a606-0cd5a6a34d9f",
   "metadata": {},
   "outputs": [],
   "source": [
    "words = nltk.word_tokenize(words)"
   ]
  },
  {
   "cell_type": "code",
   "execution_count": 6,
   "id": "4f157f53-0ff2-4beb-99a3-9bb414f4febf",
   "metadata": {},
   "outputs": [],
   "source": [
    "tagged_ele = nltk.pos_tag(words)"
   ]
  },
  {
   "cell_type": "code",
   "execution_count": 7,
   "id": "ae44cc83-1b1b-4f11-9568-2aacf6f6842c",
   "metadata": {},
   "outputs": [],
   "source": [
    "nltk.ne_chunk(tagged_ele).draw()"
   ]
  },
  {
   "cell_type": "code",
   "execution_count": null,
   "id": "bd600458-66a6-4a47-9904-81cbafc38756",
   "metadata": {},
   "outputs": [],
   "source": []
  }
 ],
 "metadata": {
  "kernelspec": {
   "display_name": "Python 3 (ipykernel)",
   "language": "python",
   "name": "python3"
  },
  "language_info": {
   "codemirror_mode": {
    "name": "ipython",
    "version": 3
   },
   "file_extension": ".py",
   "mimetype": "text/x-python",
   "name": "python",
   "nbconvert_exporter": "python",
   "pygments_lexer": "ipython3",
   "version": "3.11.7"
  },
  "widgets": {
   "application/vnd.jupyter.widget-state+json": {
    "state": {},
    "version_major": 2,
    "version_minor": 0
   }
  }
 },
 "nbformat": 4,
 "nbformat_minor": 5
}
